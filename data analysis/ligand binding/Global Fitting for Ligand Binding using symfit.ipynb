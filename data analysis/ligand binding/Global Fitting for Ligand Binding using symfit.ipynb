{
 "cells": [
  {
   "cell_type": "markdown",
   "metadata": {},
   "source": [
    "### Global Fitting for Ligand Binding using symfit"
   ]
  },
  {
   "cell_type": "markdown",
   "metadata": {},
   "source": [
    "### This ipython notebook code fits data for ligand binding using radioactive measurements by global fitting using symfit. The fits use global fitting to extract Bmax, Kd and ns (non specific binding). The fits are reported with standard deviation for each parameter and R2 for the model fit. \n",
    "\n",
    "### You will need to install symfit library https://pypi.org/project/symfit/"
   ]
  },
  {
   "cell_type": "code",
   "execution_count": 6,
   "metadata": {},
   "outputs": [],
   "source": [
    "import numpy as np\n",
    "import matplotlib.pyplot as plt\n",
    "%matplotlib inline\n",
    "from symfit import parameters, variables, Model, Fit\n",
    "from symfit.core.minimizers import DifferentialEvolution"
   ]
  },
  {
   "cell_type": "code",
   "execution_count": 7,
   "metadata": {},
   "outputs": [
    {
     "name": "stdout",
     "output_type": "stream",
     "text": [
      "\n",
      "Parameter Value        Standard Deviation\n",
      "Bmax      9.958230e+00 1.893198e-01\n",
      "Kd        7.955581e+00 5.474532e-01\n",
      "NS        2.873472e-02 4.731582e-04\n",
      "Status message         Desired error not necessarily achieved due to precision loss.\n",
      "Number of iterations   11\n",
      "Objective              <symfit.core.objectives.LeastSquares object at 0x000001E7006D04C8>\n",
      "Minimizer              <symfit.core.minimizers.BFGS object at 0x000001E7006D0488>\n",
      "\n",
      "Goodness of fit qualifiers:\n",
      "chi_squared            0.6797843470615478\n",
      "objective_value        0.3398921735307739\n",
      "r_squared              0.9985667096135273\n",
      "\n",
      "Bmax is 10.0 +/- 0.2\n",
      "Kd is 8.0 +/- 0.5\n"
     ]
    },
    {
     "data": {
      "image/png": "[encoded data removed]",
      "text/plain": [
       "<Figure size 1080x720 with 1 Axes>"
      ]
     },
     "metadata": {
      "needs_background": "light"
     },
     "output_type": "display_data"
    }
   ],
   "source": [
    "#Ligand Binding Equation\n",
    "def Ligand_Binding(x, Kd, Bmax):\n",
    "    return (Bmax*x)/(Kd+x)\n",
    "\n",
    "#Define variables and parameters\n",
    "x_1, x_2, y_1, y_2 = variables('x_1, x_2, y_1, y_2')\n",
    "Bmax, Kd, NS = parameters('Bmax, Kd, NS')\n",
    "\n",
    "#Initial Parameter Guess\n",
    "Bmax.value = 5\n",
    "Kd.value = 10\n",
    "NS.value = 0.1\n",
    "\n",
    "#Global fit of ligand binding with background\n",
    "model = Model({\n",
    "    y_1: (Bmax*x_1)/(Kd+x_1) + NS*x_1,\n",
    "    y_2: NS*x_2,\n",
    "})\n",
    "\n",
    "#Raw Data\n",
    "x_1 = np.array([0, 2, 4, 8, 12, 20, 40, 100, 200, 400]) #substrate concentration \n",
    "x_2 = np.array([0, 12, 40, 200, 400])     #non-specific measurement at substrate concentration\n",
    "y_1 = np.array([0, 1.93, 3.55, 5.32, 6.29, 7.41, 9.65, 12.40, 15.33, 20.98]) #ligand bound\n",
    "y_2 = np.array([0, 0.27, 0.93, 6.29, 11.44]) #background non-specific binding measurement\n",
    "\n",
    "#Fitting the Data\n",
    "fit = Fit(model, x_1, x_2, y_1, y_2)\n",
    "fit_result = fit.execute()\n",
    "print (fit_result)\n",
    "\n",
    "#Extracting parameters\n",
    "Bmax_Fit = fit_result.value(Bmax)\n",
    "Kd_Fit = fit_result.value(Kd)\n",
    "NS_Fit = fit_result.value(NS)\n",
    "\n",
    "#Plotting the Data\n",
    "x = np.linspace(min(x_1), max(x_1), 100)\n",
    "yn = Ligand_Binding(x, Kd_Fit, Bmax_Fit)\n",
    "y_1s = y_1-(NS_Fit*x_1)    #subtract background\n",
    "plt.figure(figsize=(15,10))\n",
    "fit_data = plt.plot(x, yn)\n",
    "raw_data = plt.plot(x_1, y_1s, 'o')\n",
    "\n",
    "#Print the results\n",
    "print (\"\")\n",
    "print(\"Bmax is\", round(fit_result.value(Bmax),1), \"+/-\",round(fit_result.stdev(Bmax),1))\n",
    "print(\"Kd is\", round(fit_result.value(Kd),1), \"+/-\", round(fit_result.stdev(Kd),1))"
   ]
  },
  {
   "cell_type": "code",
   "execution_count": null,
   "metadata": {},
   "outputs": [],
   "source": []
  }
 ],
 "metadata": {
  "kernelspec": {
   "display_name": "Python 3",
   "language": "python",
   "name": "python3"
  },
  "language_info": {
   "codemirror_mode": {
    "name": "ipython",
    "version": 3
   },
   "file_extension": ".py",
   "mimetype": "text/x-python",
   "name": "python",
   "nbconvert_exporter": "python",
   "pygments_lexer": "ipython3",
   "version": "3.7.4"
  }
 },
 "nbformat": 4,
 "nbformat_minor": 2
}
