{
 "cells": [
  {
   "cell_type": "markdown",
   "metadata": {},
   "source": [
    "# Creating synthetic data for model prediction"
   ]
  },
  {
   "cell_type": "markdown",
   "metadata": {},
   "source": [
    "### Often times for model prediction and/or model evaluation having some synthic data might be useful. In this example we will generate synthetic data with a little noise and see how it fits to a ligand binding equation."
   ]
  },
  {
   "cell_type": "code",
   "execution_count": 24,
   "metadata": {},
   "outputs": [],
   "source": [
    "import numpy as np\n",
    "import matplotlib.pyplot as plt\n",
    "from scipy.optimize import curve_fit"
   ]
  },
  {
   "cell_type": "code",
   "execution_count": 30,
   "metadata": {
    "scrolled": false
   },
   "outputs": [
    {
     "data": {
      "image/png": "[encoded data removed]",
      "text/plain": [
       "<Figure size 432x288 with 1 Axes>"
      ]
     },
     "metadata": {
      "needs_background": "light"
     },
     "output_type": "display_data"
    },
    {
     "name": "stdout",
     "output_type": "stream",
     "text": [
      "[ 14.95628543  37.33031164  63.56412325  80.6741598   85.32252989\n",
      "  82.85970064  91.4578089   99.32725314 101.49347359]\n"
     ]
    }
   ],
   "source": [
    "#Ligand Binding Equation\n",
    "def Ligand_Binding(x, Kd, Bmax):\n",
    "    y = (Bmax*x)/(Kd+x)\n",
    "    return y\n",
    "\n",
    "x = np.array([0,12.5,25,50,75,100,200,350,500])\n",
    "\n",
    "Kd = 25 #dissociation constant \n",
    "Bmax = 100 #receptor density\n",
    "\n",
    "signal = Ligand_Binding(x, Kd, Bmax)\n",
    "noise = 15*(np.random.ranf(9)) #adding random noise. Make the number higher to make it noiser\n",
    "new_signal = signal + noise #adding signal + noise\n",
    "\n",
    "plt.plot(x, new_signal, 'o') # plot the synthtic data using the ligand binding equation using the fitted parameters\n",
    "plt.show()\n",
    "print (new_signal)"
   ]
  },
  {
   "cell_type": "markdown",
   "metadata": {},
   "source": [
    "### Now lets use our synthetic data with noise and fit to our ligand binding equation"
   ]
  },
  {
   "cell_type": "code",
   "execution_count": 29,
   "metadata": {},
   "outputs": [
    {
     "data": {
      "image/png": "[encoded data removed]",
      "text/plain": [
       "<Figure size 432x288 with 1 Axes>"
      ]
     },
     "metadata": {
      "needs_background": "light"
     },
     "output_type": "display_data"
    },
    {
     "name": "stdout",
     "output_type": "stream",
     "text": [
      "Kd is 22.3 Bmax is 109.0\n"
     ]
    }
   ],
   "source": [
    "initialParameters = np.array([5, 200]) #Kd, Bmax initial guess\n",
    "fittedParameters, pcov = curve_fit(Ligand_Binding, x, new_signal, initialParameters)\n",
    "Kd, Bmax = fittedParameters\n",
    "\n",
    "x1 = np.linspace(0,500,1000) #generate points to fit the equation\n",
    "\n",
    "yfit = Ligand_Binding(x1, Kd, Bmax) #fit model with parameters from least sq fit\n",
    "\n",
    "plt.plot(x, new_signal, 'o') # plot the equation using the fitted parameters\n",
    "plt.plot(x1, yfit) # plot the equation using the fitted parameters\n",
    "plt.show()\n",
    "\n",
    "print (\"Kd is\", round(Kd,1), \"Bmax is\", round(Bmax,1))"
   ]
  },
  {
   "cell_type": "markdown",
   "metadata": {},
   "source": [
    "### Kd and Bmax was close to our parameter we assinged to generate the synthetic data"
   ]
  },
  {
   "cell_type": "code",
   "execution_count": null,
   "metadata": {},
   "outputs": [],
   "source": []
  }
 ],
 "metadata": {
  "kernelspec": {
   "display_name": "Python 3",
   "language": "python",
   "name": "python3"
  },
  "language_info": {
   "codemirror_mode": {
    "name": "ipython",
    "version": 3
   },
   "file_extension": ".py",
   "mimetype": "text/x-python",
   "name": "python",
   "nbconvert_exporter": "python",
   "pygments_lexer": "ipython3",
   "version": "3.7.4"
  }
 },
 "nbformat": 4,
 "nbformat_minor": 2
}
