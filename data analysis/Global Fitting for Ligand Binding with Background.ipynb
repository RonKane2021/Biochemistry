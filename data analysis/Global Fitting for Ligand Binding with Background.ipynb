{
 "cells": [
  {
   "cell_type": "markdown",
   "metadata": {},
   "source": [
    "### "
   ]
  },
  {
   "cell_type": "code",
   "execution_count": 6,
   "metadata": {},
   "outputs": [],
   "source": [
    "import numpy as np\n",
    "from scipy.optimize import curve_fit\n",
    "from scipy.stats.distributions import t\n",
    "import seaborn as sns\n",
    "import matplotlib.pyplot as plt"
   ]
  },
  {
   "cell_type": "code",
   "execution_count": 11,
   "metadata": {},
   "outputs": [
    {
     "name": "stdout",
     "output_type": "stream",
     "text": [
      "p0: [7.955580599517648 [6.758802915756801  9.152358283278495]\n",
      "p1: [9.958230290467647 [9.545001085205353  10.37145949572994]\n",
      "p2: [0.028734720464494153 [0.027703272610375522  0.029766168318612785]\n",
      "\n",
      "\n",
      "Kd is: 8.0 +/- 0.5\n",
      "Bmax is: 10.0 +/- 0.2\n",
      "R^2 is: 0.99875\n",
      "Sum Squares is: 0.68\n"
     ]
    },
    {
     "data": {
      "image/png": "[encoded data removed]",
      "text/plain": [
       "<Figure size 1080x720 with 1 Axes>"
      ]
     },
     "metadata": {},
     "output_type": "display_data"
    }
   ],
   "source": [
    "#Raw Data\n",
    "x_1 = np.array([0, 2, 4, 8, 12, 20, 40, 100, 200, 400]) #substrate concentration \n",
    "x_2 = np.array([0, 12, 40, 200, 400])     #non-specific\n",
    "y_1 = np.array([0, 1.93, 3.55, 5.32, 6.29, 7.41, 9.65, 12.40, 15.33, 20.98]) #bound\n",
    "y_2 = np.array([0, 0.27, 0.93, 6.29, 11.44]) #non-specific bound\n",
    "\n",
    "#Appending Data sets\n",
    "comboX = np.append(x_1, x_2)\n",
    "comboY = np.append(y_1, y_2)\n",
    "\n",
    "#Raise exception if data sets are not equal\n",
    "if len(y_1) != len(x_1):\n",
    "    raise(Exception('Unequal x1 and y1 data length'))\n",
    "if len(y_2) != len(x_2):\n",
    "    raise(Exception('Unequal x2 and y2 data length'))\n",
    "\n",
    "#Equation one to fit ligand binding with background\n",
    "def function1(x_1, Kd, Bmax, NS): # not all parameters are used here, NS is shared\n",
    "    return Bmax* x_1 / (Kd + x_1) + NS*x_1\n",
    "\n",
    "#Equation two to fit back ground\n",
    "def function2(x_2, NS): # not all parameters are used here, NS is shared\n",
    "    return NS*x_2\n",
    "\n",
    "#Combining equation one and two for fitting\n",
    "def combinedFunction(comboData, Kd, Bmax, NS):\n",
    "    result1 = function1(x_1, Kd, Bmax, NS)\n",
    "    result2 = function2(x_2, NS)\n",
    "    return np.append(result1, result2)\n",
    "#Ligand Binding Equation\n",
    "def Ligand_Binding(x, Kd, Bmax):\n",
    "    return (Bmax*x)/(Kd+x)\n",
    "\n",
    "# some initial parameter values   #Kd, Bmax, Ns\n",
    "initialParameters = np.array([1.0, 20, 0.0])\n",
    "\n",
    "# curve fit the combined data to the combined function\n",
    "fittedParameters, pcov = curve_fit(combinedFunction, comboX, comboY, initialParameters)\n",
    "\n",
    "#stats for fitting data and printing results\n",
    "residuals = comboY - combinedFunction(comboX, fittedParameters[0],fittedParameters[1],fittedParameters[2])\n",
    "ss_res = np.sum(residuals**2)\n",
    "ss_tot = np.sum((comboY-np.mean(comboY))**2)\n",
    "r_squared = 1 - (ss_res/ss_tot)\n",
    "alpha = 0.05 # 95% confidence interval = 100*(1-alpha)\n",
    "n = len(comboY)    # number of data points\n",
    "p = len(initialParameters) # number of parameters\n",
    "dof = max(0, n - p) # number of degrees of freedom\n",
    "# student-t value for the dof and confidence level\n",
    "tval = t.ppf(1.0-alpha/2., dof) \n",
    "for i, p,var in zip(range(n),fittedParameters, np.diag(pcov)):\n",
    "    sigma = var**0.5\n",
    "    print ('p{0}: [{1} [{2}  {3}]'.format(i, p, p - sigma*tval, p + sigma*tval))    \n",
    "print (\"\")\n",
    "print (\"\")\n",
    "print (\"Kd is:\", round(fittedParameters[0],1), \"+/-\", round(np.sqrt(pcov[0,0]),1))\n",
    "print (\"Bmax is:\", round(fittedParameters[1],1),\"+/-\", round(np.sqrt(pcov[1,1]),1))\n",
    "print (\"R^2 is:\", round(r_squared,5))\n",
    "print (\"Sum Squares is:\", round(ss_res,2))\n",
    "\n",
    "# values for display of fitted function\n",
    "Kd, Bmax, NS = fittedParameters\n",
    "\n",
    "#Plotting the data\n",
    "x = np.linspace(min(x_1), max(x_1), 100)\n",
    "y_fit_1 = Ligand_Binding(x, Kd, Bmax) # first data set, first equation\n",
    "y_1s1 = y_1-(NS*x_1)    #subtract background\n",
    "sns.set()\n",
    "plt.figure(figsize=(15,10))\n",
    "raw_data = plt.plot(x_1, y_1s1, 'o') # plot the raw data\n",
    "plt.plot(x, y_fit_1) # plot the equation using the fitted parameters\n",
    "plt.show()\n",
    "\n",
    "# p0 = Kd with 95% confidence interval reported\n",
    "# p1 = Bmax with 95% confidence interval reported\n",
    "# p2 = ns with 95% confidence interval reported"
   ]
  },
  {
   "cell_type": "code",
   "execution_count": null,
   "metadata": {},
   "outputs": [],
   "source": []
  }
 ],
 "metadata": {
  "kernelspec": {
   "display_name": "Python 3",
   "language": "python",
   "name": "python3"
  },
  "language_info": {
   "codemirror_mode": {
    "name": "ipython",
    "version": 3
   },
   "file_extension": ".py",
   "mimetype": "text/x-python",
   "name": "python",
   "nbconvert_exporter": "python",
   "pygments_lexer": "ipython3",
   "version": "3.7.4"
  }
 },
 "nbformat": 4,
 "nbformat_minor": 2
}
