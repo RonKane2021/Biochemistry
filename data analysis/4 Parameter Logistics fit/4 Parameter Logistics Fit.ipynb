{
 "cells": [
  {
   "cell_type": "markdown",
   "metadata": {},
   "source": [
    "# 4 Parameter Logistics Fit"
   ]
  },
  {
   "cell_type": "markdown",
   "metadata": {},
   "source": [
    "### This notebook fits a 4 Parameter Logistics (4PL) equation often found in fitting biological data such as an ELISA curve. First we make a class called Four_Parameter_L that has all the functions and stats to fit the 4 parameter logistics fit. We will use least squares method to fit the equation. Next, we declare the class Four_Parameter_L and then feed it data for x and y coordinates. The output will be the parameters A, B, C, D, R^2 and the sum squares of the fit. We will use sympy to rearrange the 4PL to obtain a concentration of our unknown sample."
   ]
  },
  {
   "cell_type": "code",
   "execution_count": 14,
   "metadata": {},
   "outputs": [],
   "source": [
    "import numpy as np\n",
    "from scipy.optimize import curve_fit\n",
    "from scipy.stats.distributions import t\n",
    "import matplotlib.pyplot as plt\n",
    "import sympy, math"
   ]
  },
  {
   "cell_type": "code",
   "execution_count": 15,
   "metadata": {},
   "outputs": [],
   "source": [
    "#4 Parameter Logistics Fit\n",
    "def func (x, A, B, C, D):\n",
    "        return ((A-D)/(1+((x/C)**B))) + D\n",
    "\n",
    "#4PL with fit and stats\n",
    "class Four_Parameter_L():\n",
    "    \n",
    "    def x(self):\n",
    "        self.x\n",
    "        \n",
    "    def y(self):\n",
    "        self.y\n",
    "        \n",
    "    def params(self):\n",
    "        params = pars\n",
    "        params.self  \n",
    "        \n",
    "    def fits(self, A, B, C, D):   \n",
    "        pars, pcov = curve_fit(func, self.x, self.y, p0=(A, B, C, D))\n",
    "        residuals = self.y - func(self.x,pars[0],pars[1],pars[2],pars[3])\n",
    "        ss_res = np.sum(residuals**2)\n",
    "        ss_tot = np.sum((self.y-np.mean(self.y))**2)\n",
    "        r_squared = 1 - (ss_res/ss_tot)\n",
    "        alpha = 0.05 # 95% confidence interval = 100*(1-alpha)\n",
    "        n = len(self.y)    # number of data points\n",
    "        p = len(pars) # number of parameters\n",
    "        dof = max(0, n - p) # number of degrees of freedom\n",
    "        # student-t value for the dof and confidence level\n",
    "        tval = t.ppf(1.0-alpha/2., dof) \n",
    "        for i, p,var in zip(range(n), pars, np.diag(pcov)):\n",
    "            sigma = var**0.5\n",
    "            print ('p{0}: [{1} [{2}  {3}]'.format(i, p, p - sigma*tval, p + sigma*tval))    \n",
    "            \n",
    "        print (\"\")\n",
    "        print (\"\")\n",
    "        print (\"A is:\", round(pars[0],1), \"+/-\", round(np.sqrt(pcov[0,0]),1))\n",
    "        print (\"B is:\", round(pars[1],1),\"+/-\", round(np.sqrt(pcov[1,1]),1))\n",
    "        print (\"C is:\", round(pars[2],1), \"+/-\", round(np.sqrt(pcov[2,2]),1))\n",
    "        print (\"D is:\", round(pars[3],1),\"+/-\", round(np.sqrt(pcov[3,3]),1))\n",
    "        print (\"R^2 is:\", round(r_squared,2))\n",
    "        print (\"Sum Squares is:\", round(ss_res,2))\n",
    "        plt.plot(self.x,self.y,'o')\n",
    "        xfit = np.linspace(min(self.x),max(self.x), 100)\n",
    "        yfit = func(xfit, pars[0], pars[1],pars[2],pars[3])\n",
    "        plt.plot(xfit,yfit,'-')\n",
    "        plt.legend(['data','fit'],loc='best')\n",
    "        plt.xscale('log')\n",
    "        self.yfit = yfit #for graphing model\n",
    "        self.params = pars"
   ]
  },
  {
   "cell_type": "markdown",
   "metadata": {},
   "source": [
    "### 4PL Equation"
   ]
  },
  {
   "cell_type": "code",
   "execution_count": 22,
   "metadata": {},
   "outputs": [
    {
     "data": {
      "text/latex": [
       "$\\displaystyle D + \\frac{A - D}{\\left(\\frac{x}{C}\\right)^{B} + 1}$"
      ],
      "text/plain": [
       "D + (A - D)/((x/C)**B + 1)"
      ]
     },
     "execution_count": 22,
     "metadata": {},
     "output_type": "execute_result"
    }
   ],
   "source": [
    "func(x, A, B, C, D)"
   ]
  },
  {
   "cell_type": "markdown",
   "metadata": {},
   "source": [
    "# Declare Four_Parameter_L Class"
   ]
  },
  {
   "cell_type": "code",
   "execution_count": 17,
   "metadata": {},
   "outputs": [
    {
     "name": "stdout",
     "output_type": "stream",
     "text": [
      "p0: [0.37681675423958566 [0.13574218711592356  0.6178913213632478]\n",
      "p1: [1.9427457819944285 [1.213854573774956  2.671636990213901]\n",
      "p2: [60.027258999274906 [48.22588358019103  71.82863441835879]\n",
      "p3: [2.5590607527117135 [2.4059824320254557  2.7121390733979713]\n",
      "\n",
      "\n",
      "A is: 0.4 +/- 0.1\n",
      "B is: 1.9 +/- 0.3\n",
      "C is: 60.0 +/- 4.3\n",
      "D is: 2.6 +/- 0.1\n",
      "R^2 is: 1.0\n",
      "Sum Squares is: 0.02\n"
     ]
    },
    {
     "data": {
      "image/png": "[encoded data removed]",
      "text/plain": [
       "<Figure size 432x288 with 1 Axes>"
      ]
     },
     "metadata": {
      "needs_background": "light"
     },
     "output_type": "display_data"
    }
   ],
   "source": [
    "A = Four_Parameter_L()\n",
    "A.x = np.array([8, 25, 50, 75, 125 ,250,500,1000])\n",
    "A.y = np.array([ .42, .73, 1.2, 1.8 ,2.1, 2.4 ,2.5 ,2.6])\n",
    "A.fits(1,1,1,1) #Initial Guess for A,B,C,D\n",
    "parameters = A.params #Assign A,B,C,D values to paramters\n",
    "\n",
    "#p0 95% Confindence Interval for A\n",
    "#p1 95% Confindence Interval for B\n",
    "#p2 95% Confindence Interval for C\n",
    "#p3 95% Confindence Interval for D"
   ]
  },
  {
   "cell_type": "markdown",
   "metadata": {},
   "source": [
    "### Using sympy, we can rearrange the 4PL equation in terms of x to obtain the concentration of our sample"
   ]
  },
  {
   "cell_type": "code",
   "execution_count": 18,
   "metadata": {},
   "outputs": [
    {
     "data": {
      "text/plain": [
       "[C*((-A + y)/(D - y))**(1/B)]"
      ]
     },
     "execution_count": 18,
     "metadata": {},
     "output_type": "execute_result"
    }
   ],
   "source": [
    "x,y,A,B,C,D = sympy.symbols('x,y,A,B,C,D')\n",
    "eq = sympy.Eq(((A-D)/(1+((x/C)**B))) + D,y)\n",
    "sympy.solve(eq,x)"
   ]
  },
  {
   "cell_type": "markdown",
   "metadata": {},
   "source": [
    "### Making a function to solve for our unknown concentration. We will use the equation that was solved from our previous step"
   ]
  },
  {
   "cell_type": "code",
   "execution_count": 19,
   "metadata": {},
   "outputs": [],
   "source": [
    "def unknown_4PL(y, A, B, C, D):\n",
    "    return (C*((-A + y)/(D - y))**(1/B))"
   ]
  },
  {
   "cell_type": "markdown",
   "metadata": {},
   "source": [
    "### Our 4PL equation rearanged to solve for x"
   ]
  },
  {
   "cell_type": "code",
   "execution_count": 20,
   "metadata": {},
   "outputs": [
    {
     "data": {
      "text/latex": [
       "$\\displaystyle C \\left(\\frac{- A + y}{D - y}\\right)^{\\frac{1}{B}}$"
      ],
      "text/plain": [
       "C*((-A + y)/(D - y))**(1/B)"
      ]
     },
     "execution_count": 20,
     "metadata": {},
     "output_type": "execute_result"
    }
   ],
   "source": [
    "unknown_4PL(y, A, B, C, D)"
   ]
  },
  {
   "cell_type": "markdown",
   "metadata": {},
   "source": [
    "### Plug in our unknown value (y) and the parameters we obtained from our 4PL curve (A, B, C, D) to get the concentration of our sample"
   ]
  },
  {
   "cell_type": "code",
   "execution_count": 23,
   "metadata": {},
   "outputs": [
    {
     "data": {
      "text/plain": [
       "61.9"
      ]
     },
     "execution_count": 23,
     "metadata": {},
     "output_type": "execute_result"
    }
   ],
   "source": [
    "unknown = 1.5 #our sample gave us a reading of 1.5\n",
    "\n",
    "round(unknown_4PL(unknown, parameters[0], parameters[1], parameters[2], parameters[3]),1)"
   ]
  },
  {
   "cell_type": "markdown",
   "metadata": {},
   "source": [
    "### Our sample was determined to be 61.9"
   ]
  }
 ],
 "metadata": {
  "kernelspec": {
   "display_name": "Python 3",
   "language": "python",
   "name": "python3"
  },
  "language_info": {
   "codemirror_mode": {
    "name": "ipython",
    "version": 3
   },
   "file_extension": ".py",
   "mimetype": "text/x-python",
   "name": "python",
   "nbconvert_exporter": "python",
   "pygments_lexer": "ipython3",
   "version": "3.7.4"
  }
 },
 "nbformat": 4,
 "nbformat_minor": 2
}
