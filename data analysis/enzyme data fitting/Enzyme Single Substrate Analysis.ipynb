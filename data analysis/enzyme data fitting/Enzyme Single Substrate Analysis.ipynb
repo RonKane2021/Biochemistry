{
 "cells": [
  {
   "cell_type": "markdown",
   "metadata": {},
   "source": [
    "# Enzyme Single Substrate Analysis"
   ]
  },
  {
   "cell_type": "code",
   "execution_count": 7,
   "metadata": {},
   "outputs": [],
   "source": [
    "import numpy as np\n",
    "from scipy.optimize import curve_fit\n",
    "from scipy.stats.distributions import t\n",
    "import matplotlib.pyplot as plt"
   ]
  },
  {
   "cell_type": "code",
   "execution_count": 8,
   "metadata": {},
   "outputs": [],
   "source": [
    "#Enzyme Michaels-MEnton equation \n",
    "def func (x, Km, Vmax):\n",
    "        return Vmax * x / (Km + x) \n",
    "\n",
    "#Enzyme Class with fit and stats\n",
    "class Enzyme():\n",
    "    \n",
    "    def x(self):\n",
    "        self.x\n",
    "    def y(self):\n",
    "        self.y\n",
    "\n",
    "    def fits(self, Km, Vmax):   \n",
    "        pars, pcov = curve_fit(func, self.x, self.y, p0=(Km, Vmax))\n",
    "        residuals = self.y - func(self.x,pars[0],pars[1])\n",
    "        ss_res = np.sum(residuals**2)\n",
    "        ss_tot = np.sum((self.y-np.mean(self.y))**2)\n",
    "        r_squared = 1 - (ss_res/ss_tot)\n",
    "        alpha = 0.05 # 95% confidence interval = 100*(1-alpha)\n",
    "        n = len(self.y)    # number of data points\n",
    "        p = len(pars) # number of parameters\n",
    "        dof = max(0, n - p) # number of degrees of freedom\n",
    "        # student-t value for the dof and confidence level\n",
    "        tval = t.ppf(1.0-alpha/2., dof) \n",
    "        for i, p,var in zip(range(n), pars, np.diag(pcov)):\n",
    "            sigma = var**0.5\n",
    "            print ('p{0}: [{1} [{2}  {3}]'.format(i, p, p - sigma*tval, p + sigma*tval))    \n",
    "            \n",
    "        print (\"\")\n",
    "        print (\"\")\n",
    "        print (\"Km is:\", round(pars[0],1), \"+/-\", round(np.sqrt(pcov[0,0]),1))\n",
    "        print (\"Vmax is:\", round(pars[1],1),\"+/-\", round(np.sqrt(pcov[1,1]),1))\n",
    "        print (\"R^2 is:\", round(r_squared,2))\n",
    "        print (\"Sum Squares is:\", round(ss_res,2))\n",
    "        plt.plot(self.x,self.y,'o')\n",
    "        xfit = np.linspace(min(self.x),max(self.x), 100)\n",
    "        yfit = func(xfit, pars[0], pars[1])\n",
    "        plt.plot(xfit,yfit,'-')\n",
    "        plt.legend(['data','fit'],loc='best')\n"
   ]
  },
  {
   "cell_type": "markdown",
   "metadata": {},
   "source": [
    "# Initialize Enzyme class with data"
   ]
  },
  {
   "cell_type": "code",
   "execution_count": 9,
   "metadata": {},
   "outputs": [
    {
     "name": "stdout",
     "output_type": "stream",
     "text": [
      "p0: [37.462819598214864 [29.053797336525243  45.871841859904485]\n",
      "p1: [102.5623791992517 [96.50586063540663  108.61889776309675]\n",
      "\n",
      "\n",
      "Km is: 37.5 +/- 3.6\n",
      "Vmax is: 102.6 +/- 2.6\n",
      "R^2 is: 0.99\n",
      "Sum Squares is: 63.97\n"
     ]
    },
    {
     "data": {
      "image/png": "[encoded data removed]",
      "text/plain": [
       "<Figure size 432x288 with 1 Axes>"
      ]
     },
     "metadata": {
      "needs_background": "light"
     },
     "output_type": "display_data"
    }
   ],
   "source": [
    "A = Enzyme()\n",
    "A.x = np.array([0,12.5,25,50,75,100,200,350,500])\n",
    "A.y = np.array([ 5.7, 28.4, 41.6, 59.9, 65.4, 71.76, 87.9, 92.3, 97.0])\n",
    "A.fits(30,100) #Initial Guess for Km and Vmax\n",
    "\n",
    "#p0 95% Confindence Interval for Km\n",
    "#p1 95% Confindence Interval for Vmax"
   ]
  }
 ],
 "metadata": {
  "kernelspec": {
   "display_name": "Python 3",
   "language": "python",
   "name": "python3"
  },
  "language_info": {
   "codemirror_mode": {
    "name": "ipython",
    "version": 3
   },
   "file_extension": ".py",
   "mimetype": "text/x-python",
   "name": "python",
   "nbconvert_exporter": "python",
   "pygments_lexer": "ipython3",
   "version": "3.7.4"
  }
 },
 "nbformat": 4,
 "nbformat_minor": 2
}
