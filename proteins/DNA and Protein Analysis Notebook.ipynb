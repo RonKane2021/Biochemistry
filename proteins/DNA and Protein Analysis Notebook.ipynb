{
 "cells": [
  {
   "cell_type": "markdown",
   "metadata": {},
   "source": [
    "# DNA and Protein Analysis Notebook"
   ]
  },
  {
   "cell_type": "markdown",
   "metadata": {},
   "source": [
    "### This notebook will take a DNA sequence and translate it to the protein sequence. We will use Biopython module since many useful functions exist for this type of analysis. \n",
    "\n",
    "### https://biopython.org/"
   ]
  },
  {
   "cell_type": "code",
   "execution_count": 94,
   "metadata": {},
   "outputs": [],
   "source": [
    "from Bio.Seq import Seq\n",
    "from Bio.SeqUtils import molecular_weight\n",
    "from Bio.Data import CodonTable\n",
    "from Bio.SeqUtils.ProtParam import ProteinAnalysis"
   ]
  },
  {
   "cell_type": "markdown",
   "metadata": {},
   "source": [
    "### Print Codon Table for Reference"
   ]
  },
  {
   "cell_type": "code",
   "execution_count": 95,
   "metadata": {},
   "outputs": [
    {
     "name": "stdout",
     "output_type": "stream",
     "text": [
      "Table 1 Standard, SGC0\n",
      "\n",
      "  |  T      |  C      |  A      |  G      |\n",
      "--+---------+---------+---------+---------+--\n",
      "T | TTT F   | TCT S   | TAT Y   | TGT C   | T\n",
      "T | TTC F   | TCC S   | TAC Y   | TGC C   | C\n",
      "T | TTA L   | TCA S   | TAA Stop| TGA Stop| A\n",
      "T | TTG L(s)| TCG S   | TAG Stop| TGG W   | G\n",
      "--+---------+---------+---------+---------+--\n",
      "C | CTT L   | CCT P   | CAT H   | CGT R   | T\n",
      "C | CTC L   | CCC P   | CAC H   | CGC R   | C\n",
      "C | CTA L   | CCA P   | CAA Q   | CGA R   | A\n",
      "C | CTG L(s)| CCG P   | CAG Q   | CGG R   | G\n",
      "--+---------+---------+---------+---------+--\n",
      "A | ATT I   | ACT T   | AAT N   | AGT S   | T\n",
      "A | ATC I   | ACC T   | AAC N   | AGC S   | C\n",
      "A | ATA I   | ACA T   | AAA K   | AGA R   | A\n",
      "A | ATG M(s)| ACG T   | AAG K   | AGG R   | G\n",
      "--+---------+---------+---------+---------+--\n",
      "G | GTT V   | GCT A   | GAT D   | GGT G   | T\n",
      "G | GTC V   | GCC A   | GAC D   | GGC G   | C\n",
      "G | GTA V   | GCA A   | GAA E   | GGA G   | A\n",
      "G | GTG V   | GCG A   | GAG E   | GGG G   | G\n",
      "--+---------+---------+---------+---------+--\n"
     ]
    }
   ],
   "source": [
    "standard_table = CodonTable.unambiguous_dna_by_name[\"Standard\"]\n",
    "print (standard_table)"
   ]
  },
  {
   "cell_type": "markdown",
   "metadata": {},
   "source": [
    "### Our DNA sequence we want to analyze. This DNA sequence is eGFP (green fluorescent protein) with terminal TEV Cleavage site followed by a 6x his tag on the C-terminus."
   ]
  },
  {
   "cell_type": "code",
   "execution_count": 96,
   "metadata": {},
   "outputs": [],
   "source": [
    "dna = \"ATGGTGAGCAAGGGCGAGGAGCTGTTCACCGGGGTGGTGCCCATCCTGGTCGAGCTGGACGGCGACGTAAACGGCCACAAGTTCAGCGTGTCCGGCGAGGGCGAGGGCGATGCCACCTACGGCAAGCTGACCCTGAAGTTCATCTGCACCACCGGCAAGCTGCCCGTGCCCTGGCCCACCCTCGTGACCACCCTGACCTACGGCGTGCAGTGCTTCAGCCGCTACCCCGACCACATGAAGCAGCACGACTTCTTCAAGTCCGCCATGCCCGAAGGCTACGTCCAGGAGCGCACCATCTTCTTCAAGGACGACGGCAACTACAAGACCCGCGCCGAGGTGAAGTTCGAGGGCGACACCCTGGTGAACCGCATCGAGCTGAAGGGCATCGACTTCAAGGAGGACGGCAACATCCTGGGGCACAAGCTGGAGTACAACTACAACAGCCACAACGTCTATATCATGGCCGACAAGCAGAAGAACGGCATCAAGGTGAACTTCAAGATCCGCCACAACATCGAGGACGGCAGCGTGCAGCTCGCCGACCACTACCAGCAGAACACCCCCATCGGCGACGGCCCCGTGCTGCTGCCCGACAACCACTACCTGAGCACCCAGTCCGCCCTGAGCAAAGACCCCAACGAGAAGCGCGATCACATGGTCCTGCTGGAGTTCGTGACCGCCGCCGGGATCACTCTCGGCATGGACGAGCTGTACAAGGAAAACCTGTATTTCCAGGGTCATCACCATCACCATCAC\""
   ]
  },
  {
   "cell_type": "code",
   "execution_count": 97,
   "metadata": {
    "scrolled": false
   },
   "outputs": [
    {
     "name": "stdout",
     "output_type": "stream",
     "text": [
      "DNA MW is 233051.3\n",
      "\n",
      "Protein Sequence is:\n",
      "\n",
      "MVSKGEELFTGVVPILVELDGDVNGHKFSVSGEGEGDATYGKLTLKFICTTGKLPVPWPTLVTTLTYGVQCFSRYPDHMKQHDFFKSAMPEGYVQERTIFFKDDGNYKTRAEVKFEGDTLVNRIELKGIDFKEDGNILGHKLEYNYNSHNVYIMADKQKNGIKVNFKIRHNIEDGSVQLADHYQQNTPIGDGPVLLPDNHYLSTQSALSKDPNEKRDHMVLLEFVTAAGITLGMDELYKENLYFQGHHHHHH\n"
     ]
    }
   ],
   "source": [
    "dna_mw = molecular_weight(dna)\n",
    "coding_dna = Seq(dna)\n",
    "aa_translate = coding_dna.translate()\n",
    "print (\"DNA MW is\", round(dna_mw,1))\n",
    "print ()\n",
    "print (\"Protein Sequence is:\") \n",
    "print ()\n",
    "print (aa_translate)"
   ]
  },
  {
   "cell_type": "markdown",
   "metadata": {},
   "source": [
    "### Protein Analysis after translation of DNA Sequence"
   ]
  },
  {
   "cell_type": "code",
   "execution_count": 98,
   "metadata": {},
   "outputs": [
    {
     "name": "stdout",
     "output_type": "stream",
     "text": [
      "Protein MW is 28615.9 da and there is 252 amino acids\n",
      "\n",
      "Protein IsoElectric Point is 5.9\n",
      "\n",
      "These amino acids are in the protein\n",
      "\n",
      "{'A': 8, 'C': 2, 'D': 18, 'E': 17, 'F': 13, 'G': 23, 'H': 15, 'I': 12, 'K': 20, 'L': 22, 'M': 6, 'N': 14, 'P': 10, 'Q': 9, 'R': 6, 'S': 10, 'T': 16, 'V': 18, 'W': 1, 'Y': 12}\n"
     ]
    }
   ],
   "source": [
    "str_aa = str(aa_translate) #convert sequence object to strings for protein analysis\n",
    "analysed_seq = ProteinAnalysis(str_aa)\n",
    "molecular_weight_protein = analysed_seq.molecular_weight()\n",
    "iso_protein = analysed_seq.isoelectric_point()\n",
    "AA_Count = analysed_seq.count_amino_acids()\n",
    "\n",
    "print (\"Protein MW is\", round(molecular_weight_protein,1), \"da\", \"and there is\", len(str_aa), \"amino acids\")\n",
    "print ()\n",
    "print (\"Protein IsoElectric Point is\", round(iso_protein,1))\n",
    "print()\n",
    "print(\"These amino acids are in the protein\")\n",
    "print()\n",
    "print (AA_Count)"
   ]
  },
  {
   "cell_type": "markdown",
   "metadata": {},
   "source": [
    "### How does eGFP change once we remove the 6x his tag after performaing a TEV Cleavage step?"
   ]
  },
  {
   "cell_type": "code",
   "execution_count": 99,
   "metadata": {},
   "outputs": [
    {
     "name": "stdout",
     "output_type": "stream",
     "text": [
      "New protein sequence is\n",
      "\n",
      "MVSKGEELFTGVVPILVELDGDVNGHKFSVSGEGEGDATYGKLTLKFICTTGKLPVPWPTLVTTLTYGVQCFSRYPDHMKQHDFFKSAMPEGYVQERTIFFKDDGNYKTRAEVKFEGDTLVNRIELKGIDFKEDGNILGHKLEYNYNSHNVYIMADKQKNGIKVNFKIRHNIEDGSVQLADHYQQNTPIGDGPVLLPDNHYLSTQSALSKDPNEKRDHMVLLEFVTAAGITLGMDELYKENLYFQ\n",
      "\n",
      "Protein MW is 27736.0 da and there is 245 amino acids\n",
      "\n",
      "Protein IsoElectric Point is 5.5\n",
      "\n",
      "These amino acids are in the protein\n",
      "\n",
      "{'A': 8, 'C': 2, 'D': 18, 'E': 17, 'F': 13, 'G': 22, 'H': 9, 'I': 12, 'K': 20, 'L': 22, 'M': 6, 'N': 14, 'P': 10, 'Q': 9, 'R': 6, 'S': 10, 'T': 16, 'V': 18, 'W': 1, 'Y': 12}\n"
     ]
    }
   ],
   "source": [
    "#TEV Protease recognition sequence is ENLYFQ|G. TEV cleaves between Q and G\n",
    "protein_sequence_after_TEV = str_aa.replace(\"GHHHHHH\", \"\") #Removes the sequence after the cut\n",
    "analysed_seq_after_TEV = ProteinAnalysis(protein_sequence_after_TEV)\n",
    "molecular_weight_protein_after_TEV = analysed_seq_after_TEV.molecular_weight()\n",
    "iso_protein_after_TEV = analysed_seq_after_TEV.isoelectric_point()\n",
    "AA_Count_after_TEV = analysed_seq_after_TEV.count_amino_acids()\n",
    "\n",
    "print(\"New protein sequence is\")\n",
    "print()\n",
    "print(protein_sequence_after_TEV)\n",
    "print()\n",
    "print(\"Protein MW is\", round(molecular_weight_protein_after_TEV,1), \"da\", \"and there is\", len(protein_sequence_after_TEV), \"amino acids\")\n",
    "print()\n",
    "print (\"Protein IsoElectric Point is\", round(iso_protein_after_TEV,1))\n",
    "print()\n",
    "print(\"These amino acids are in the protein\")\n",
    "print()\n",
    "print(AA_Count_after_TEV)"
   ]
  },
  {
   "cell_type": "markdown",
   "metadata": {},
   "source": [
    "### After TEV-Clevage, eGFP's MW and PI changed due to removal of GHHHHHH"
   ]
  },
  {
   "cell_type": "code",
   "execution_count": null,
   "metadata": {},
   "outputs": [],
   "source": []
  }
 ],
 "metadata": {
  "kernelspec": {
   "display_name": "Python 3",
   "language": "python",
   "name": "python3"
  },
  "language_info": {
   "codemirror_mode": {
    "name": "ipython",
    "version": 3
   },
   "file_extension": ".py",
   "mimetype": "text/x-python",
   "name": "python",
   "nbconvert_exporter": "python",
   "pygments_lexer": "ipython3",
   "version": "3.7.4"
  }
 },
 "nbformat": 4,
 "nbformat_minor": 2
}
